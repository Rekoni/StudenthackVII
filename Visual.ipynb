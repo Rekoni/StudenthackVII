{
 "cells": [
  {
   "cell_type": "code",
   "execution_count": 42,
   "metadata": {},
   "outputs": [
    {
     "data": {
      "text/plain": [
       "[]"
      ]
     },
     "execution_count": 42,
     "metadata": {},
     "output_type": "execute_result"
    }
   ],
   "source": [
    "from keras.models import load_model\n",
    "import numpy as np\n",
    "from keras import backend as K\n",
    "from PIL import Image\n",
    "K.tensorflow_backend._get_available_gpus()"
   ]
  },
  {
   "cell_type": "code",
   "execution_count": 43,
   "metadata": {},
   "outputs": [],
   "source": [
    "img_file='Hei1.png'\n",
    "image = Image.open(img_file)\n",
    "image = image.resize((120,80))\n",
    "image = np.array(image)\n",
    "image = image[:,:]\n",
    "image = np.array(image,dtype=np.float64)\n",
    "image = np.expand_dims(image,axis=0)"
   ]
  },
  {
   "cell_type": "code",
   "execution_count": 44,
   "metadata": {},
   "outputs": [],
   "source": [
    "vgg='VGG_model.h5'\n",
    "model=load_model(vgg)\n",
    "score = model.predict(image)"
   ]
  },
  {
   "cell_type": "code",
   "execution_count": 45,
   "metadata": {},
   "outputs": [
    {
     "name": "stdout",
     "output_type": "stream",
     "text": [
      "Anime, 99.99880790710449% chance\n"
     ]
    }
   ],
   "source": [
    "if score[0][0] > .5:\n",
    "    print(\"Anime, {0}% chance\".format(score[0][0]*100))\n",
    "else:\n",
    "    print(\"Cartoon, {0}% chance\".format(score[0][1]*100))"
   ]
  }
 ],
 "metadata": {
  "kernelspec": {
   "display_name": "Python 3",
   "language": "python",
   "name": "python3"
  },
  "language_info": {
   "codemirror_mode": {
    "name": "ipython",
    "version": 3
   },
   "file_extension": ".py",
   "mimetype": "text/x-python",
   "name": "python",
   "nbconvert_exporter": "python",
   "pygments_lexer": "ipython3",
   "version": "3.7.1"
  }
 },
 "nbformat": 4,
 "nbformat_minor": 2
}
